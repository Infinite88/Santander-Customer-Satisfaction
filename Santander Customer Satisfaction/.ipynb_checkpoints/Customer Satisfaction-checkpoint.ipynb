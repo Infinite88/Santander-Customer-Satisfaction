{
 "cells": [
  {
   "cell_type": "markdown",
   "metadata": {},
   "source": [
    "# Santander Customer Satisfaction\n"
   ]
  },
  {
   "cell_type": "markdown",
   "metadata": {},
   "source": [
    "## Load Libraries"
   ]
  },
  {
   "cell_type": "code",
   "execution_count": 76,
   "metadata": {
    "collapsed": false
   },
   "outputs": [],
   "source": [
    "import numpy as np\n",
    "import pandas as pd\n",
    "import matplotlib.pyplot as plt\n",
    "import time\n",
    "import warnings\n",
    "\n",
    "from sklearn.cross_validation import train_test_split\n",
    "from sklearn.metrics import roc_auc_score\n",
    "from sklearn.ensemble import ExtraTreesClassifier\n",
    "from sklearn.naive_bayes import GaussianNB\n",
    "from sklearn.ensemble import RandomForestClassifier\n",
    "from sklearn.ensemble import AdaBoostClassifier\n",
    "from sklearn.tree import DecisionTreeClassifier\n",
    "from sklearn import ensemble\n",
    "from sklearn.feature_selection import SelectFromModel\n",
    "from sklearn.metrics import f1_score\n",
    "from sklearn import cross_validation, metrics\n",
    "from sklearn.grid_search import GridSearchCV\n",
    "from sklearn import linear_model\n",
    "\n",
    "from xgboost.sklearn import XGBClassifier\n",
    "import xgboost as xgb\n",
    "from matplotlib.pylab import rcParams\n",
    "rcParams['figure.figsize'] = 12, 4\n",
    "\n",
    "%matplotlib inline\n",
    "warnings.filterwarnings('ignore')"
   ]
  },
  {
   "cell_type": "markdown",
   "metadata": {},
   "source": [
    "## Exploring the Data"
   ]
  },
  {
   "cell_type": "code",
   "execution_count": 77,
   "metadata": {
    "collapsed": true
   },
   "outputs": [],
   "source": [
    "def loadData(data):\n",
    "    dataDf = pd.read_csv(data)\n",
    "    numCustomers = dataDf.shape[0]\n",
    "    numfeatures = dataDf.shape[1]\n",
    "    \n",
    "    print('Total number of customers: {}'.format(numCustomers))\n",
    "    print('Total number of features: {}'.format(numfeatures))\n",
    "    \n",
    "    return dataDf"
   ]
  },
  {
   "cell_type": "code",
   "execution_count": 78,
   "metadata": {
    "collapsed": false
   },
   "outputs": [
    {
     "name": "stdout",
     "output_type": "stream",
     "text": [
      "Total number of customers: 76020\n",
      "Total number of features: 371\n"
     ]
    }
   ],
   "source": [
    "train = loadData('data/train.csv')"
   ]
  },
  {
   "cell_type": "code",
   "execution_count": 79,
   "metadata": {
    "collapsed": false
   },
   "outputs": [
    {
     "data": {
      "text/html": [
       "<div>\n",
       "<table border=\"1\" class=\"dataframe\">\n",
       "  <thead>\n",
       "    <tr style=\"text-align: right;\">\n",
       "      <th></th>\n",
       "      <th>ID</th>\n",
       "      <th>var3</th>\n",
       "      <th>var15</th>\n",
       "      <th>imp_ent_var16_ult1</th>\n",
       "      <th>imp_op_var39_comer_ult1</th>\n",
       "      <th>imp_op_var39_comer_ult3</th>\n",
       "      <th>imp_op_var40_comer_ult1</th>\n",
       "      <th>imp_op_var40_comer_ult3</th>\n",
       "      <th>imp_op_var40_efect_ult1</th>\n",
       "      <th>imp_op_var40_efect_ult3</th>\n",
       "      <th>...</th>\n",
       "      <th>saldo_medio_var33_hace2</th>\n",
       "      <th>saldo_medio_var33_hace3</th>\n",
       "      <th>saldo_medio_var33_ult1</th>\n",
       "      <th>saldo_medio_var33_ult3</th>\n",
       "      <th>saldo_medio_var44_hace2</th>\n",
       "      <th>saldo_medio_var44_hace3</th>\n",
       "      <th>saldo_medio_var44_ult1</th>\n",
       "      <th>saldo_medio_var44_ult3</th>\n",
       "      <th>var38</th>\n",
       "      <th>TARGET</th>\n",
       "    </tr>\n",
       "  </thead>\n",
       "  <tbody>\n",
       "    <tr>\n",
       "      <th>0</th>\n",
       "      <td>1</td>\n",
       "      <td>2</td>\n",
       "      <td>23</td>\n",
       "      <td>0.0</td>\n",
       "      <td>0.0</td>\n",
       "      <td>0.0</td>\n",
       "      <td>0.0</td>\n",
       "      <td>0.0</td>\n",
       "      <td>0.0</td>\n",
       "      <td>0.0</td>\n",
       "      <td>...</td>\n",
       "      <td>0.0</td>\n",
       "      <td>0.0</td>\n",
       "      <td>0.0</td>\n",
       "      <td>0.0</td>\n",
       "      <td>0.0</td>\n",
       "      <td>0.0</td>\n",
       "      <td>0.0</td>\n",
       "      <td>0.0</td>\n",
       "      <td>39205.170000</td>\n",
       "      <td>0</td>\n",
       "    </tr>\n",
       "    <tr>\n",
       "      <th>1</th>\n",
       "      <td>3</td>\n",
       "      <td>2</td>\n",
       "      <td>34</td>\n",
       "      <td>0.0</td>\n",
       "      <td>0.0</td>\n",
       "      <td>0.0</td>\n",
       "      <td>0.0</td>\n",
       "      <td>0.0</td>\n",
       "      <td>0.0</td>\n",
       "      <td>0.0</td>\n",
       "      <td>...</td>\n",
       "      <td>0.0</td>\n",
       "      <td>0.0</td>\n",
       "      <td>0.0</td>\n",
       "      <td>0.0</td>\n",
       "      <td>0.0</td>\n",
       "      <td>0.0</td>\n",
       "      <td>0.0</td>\n",
       "      <td>0.0</td>\n",
       "      <td>49278.030000</td>\n",
       "      <td>0</td>\n",
       "    </tr>\n",
       "    <tr>\n",
       "      <th>2</th>\n",
       "      <td>4</td>\n",
       "      <td>2</td>\n",
       "      <td>23</td>\n",
       "      <td>0.0</td>\n",
       "      <td>0.0</td>\n",
       "      <td>0.0</td>\n",
       "      <td>0.0</td>\n",
       "      <td>0.0</td>\n",
       "      <td>0.0</td>\n",
       "      <td>0.0</td>\n",
       "      <td>...</td>\n",
       "      <td>0.0</td>\n",
       "      <td>0.0</td>\n",
       "      <td>0.0</td>\n",
       "      <td>0.0</td>\n",
       "      <td>0.0</td>\n",
       "      <td>0.0</td>\n",
       "      <td>0.0</td>\n",
       "      <td>0.0</td>\n",
       "      <td>67333.770000</td>\n",
       "      <td>0</td>\n",
       "    </tr>\n",
       "    <tr>\n",
       "      <th>3</th>\n",
       "      <td>8</td>\n",
       "      <td>2</td>\n",
       "      <td>37</td>\n",
       "      <td>0.0</td>\n",
       "      <td>195.0</td>\n",
       "      <td>195.0</td>\n",
       "      <td>0.0</td>\n",
       "      <td>0.0</td>\n",
       "      <td>0.0</td>\n",
       "      <td>0.0</td>\n",
       "      <td>...</td>\n",
       "      <td>0.0</td>\n",
       "      <td>0.0</td>\n",
       "      <td>0.0</td>\n",
       "      <td>0.0</td>\n",
       "      <td>0.0</td>\n",
       "      <td>0.0</td>\n",
       "      <td>0.0</td>\n",
       "      <td>0.0</td>\n",
       "      <td>64007.970000</td>\n",
       "      <td>0</td>\n",
       "    </tr>\n",
       "    <tr>\n",
       "      <th>4</th>\n",
       "      <td>10</td>\n",
       "      <td>2</td>\n",
       "      <td>39</td>\n",
       "      <td>0.0</td>\n",
       "      <td>0.0</td>\n",
       "      <td>0.0</td>\n",
       "      <td>0.0</td>\n",
       "      <td>0.0</td>\n",
       "      <td>0.0</td>\n",
       "      <td>0.0</td>\n",
       "      <td>...</td>\n",
       "      <td>0.0</td>\n",
       "      <td>0.0</td>\n",
       "      <td>0.0</td>\n",
       "      <td>0.0</td>\n",
       "      <td>0.0</td>\n",
       "      <td>0.0</td>\n",
       "      <td>0.0</td>\n",
       "      <td>0.0</td>\n",
       "      <td>117310.979016</td>\n",
       "      <td>0</td>\n",
       "    </tr>\n",
       "  </tbody>\n",
       "</table>\n",
       "<p>5 rows × 371 columns</p>\n",
       "</div>"
      ],
      "text/plain": [
       "   ID  var3  var15  imp_ent_var16_ult1  imp_op_var39_comer_ult1  \\\n",
       "0   1     2     23                 0.0                      0.0   \n",
       "1   3     2     34                 0.0                      0.0   \n",
       "2   4     2     23                 0.0                      0.0   \n",
       "3   8     2     37                 0.0                    195.0   \n",
       "4  10     2     39                 0.0                      0.0   \n",
       "\n",
       "   imp_op_var39_comer_ult3  imp_op_var40_comer_ult1  imp_op_var40_comer_ult3  \\\n",
       "0                      0.0                      0.0                      0.0   \n",
       "1                      0.0                      0.0                      0.0   \n",
       "2                      0.0                      0.0                      0.0   \n",
       "3                    195.0                      0.0                      0.0   \n",
       "4                      0.0                      0.0                      0.0   \n",
       "\n",
       "   imp_op_var40_efect_ult1  imp_op_var40_efect_ult3   ...    \\\n",
       "0                      0.0                      0.0   ...     \n",
       "1                      0.0                      0.0   ...     \n",
       "2                      0.0                      0.0   ...     \n",
       "3                      0.0                      0.0   ...     \n",
       "4                      0.0                      0.0   ...     \n",
       "\n",
       "   saldo_medio_var33_hace2  saldo_medio_var33_hace3  saldo_medio_var33_ult1  \\\n",
       "0                      0.0                      0.0                     0.0   \n",
       "1                      0.0                      0.0                     0.0   \n",
       "2                      0.0                      0.0                     0.0   \n",
       "3                      0.0                      0.0                     0.0   \n",
       "4                      0.0                      0.0                     0.0   \n",
       "\n",
       "   saldo_medio_var33_ult3  saldo_medio_var44_hace2  saldo_medio_var44_hace3  \\\n",
       "0                     0.0                      0.0                      0.0   \n",
       "1                     0.0                      0.0                      0.0   \n",
       "2                     0.0                      0.0                      0.0   \n",
       "3                     0.0                      0.0                      0.0   \n",
       "4                     0.0                      0.0                      0.0   \n",
       "\n",
       "   saldo_medio_var44_ult1  saldo_medio_var44_ult3          var38  TARGET  \n",
       "0                     0.0                     0.0   39205.170000       0  \n",
       "1                     0.0                     0.0   49278.030000       0  \n",
       "2                     0.0                     0.0   67333.770000       0  \n",
       "3                     0.0                     0.0   64007.970000       0  \n",
       "4                     0.0                     0.0  117310.979016       0  \n",
       "\n",
       "[5 rows x 371 columns]"
      ]
     },
     "execution_count": 79,
     "metadata": {},
     "output_type": "execute_result"
    }
   ],
   "source": [
    "train.head()"
   ]
  },
  {
   "cell_type": "code",
   "execution_count": 80,
   "metadata": {
    "collapsed": false
   },
   "outputs": [
    {
     "name": "stdout",
     "output_type": "stream",
     "text": [
      "Total number of customers: 75818\n",
      "Total number of features: 370\n"
     ]
    }
   ],
   "source": [
    "test = loadData('data/test.csv')"
   ]
  },
  {
   "cell_type": "code",
   "execution_count": 81,
   "metadata": {
    "collapsed": false
   },
   "outputs": [
    {
     "data": {
      "text/html": [
       "<div>\n",
       "<table border=\"1\" class=\"dataframe\">\n",
       "  <thead>\n",
       "    <tr style=\"text-align: right;\">\n",
       "      <th></th>\n",
       "      <th>TARGET</th>\n",
       "      <th>Percentage</th>\n",
       "    </tr>\n",
       "  </thead>\n",
       "  <tbody>\n",
       "    <tr>\n",
       "      <th>0</th>\n",
       "      <td>73012</td>\n",
       "      <td>96.043147</td>\n",
       "    </tr>\n",
       "    <tr>\n",
       "      <th>1</th>\n",
       "      <td>3008</td>\n",
       "      <td>3.956853</td>\n",
       "    </tr>\n",
       "  </tbody>\n",
       "</table>\n",
       "</div>"
      ],
      "text/plain": [
       "   TARGET  Percentage\n",
       "0   73012   96.043147\n",
       "1    3008    3.956853"
      ]
     },
     "execution_count": 81,
     "metadata": {},
     "output_type": "execute_result"
    }
   ],
   "source": [
    "df = pd.DataFrame(train.TARGET.value_counts())\n",
    "df['Percentage'] = 100*df['TARGET']/train.shape[0]\n",
    "df"
   ]
  },
  {
   "cell_type": "code",
   "execution_count": 82,
   "metadata": {
    "collapsed": false
   },
   "outputs": [],
   "source": [
    "remove = []\n",
    "for col in train.columns:\n",
    "    if train[col].std() == 0:\n",
    "        remove.append(col)\n",
    "\n",
    "cols = train.columns\n",
    "for i in range(len(cols)-1):\n",
    "    v = train[cols[i]].values\n",
    "    for j in range(i+1,len(cols)):\n",
    "        if np.array_equal(v,train[cols[j]].values):\n",
    "            remove.append(cols[j])\n",
    "\n",
    "train.drop(remove, axis=1, inplace=True)\n",
    "test.drop(remove, axis=1, inplace=True) \n"
   ]
  },
  {
   "cell_type": "code",
   "execution_count": 83,
   "metadata": {
    "collapsed": false
   },
   "outputs": [],
   "source": [
    "X_train = train.drop(['TARGET', 'ID'], axis=1)\n",
    "y_train = train.TARGET.values"
   ]
  },
  {
   "cell_type": "code",
   "execution_count": 84,
   "metadata": {
    "collapsed": false
   },
   "outputs": [],
   "source": [
    "test_id = test.ID\n",
    "test = test.drop([\"ID\"],axis=1)"
   ]
  },
  {
   "cell_type": "code",
   "execution_count": 85,
   "metadata": {
    "collapsed": false
   },
   "outputs": [
    {
     "name": "stdout",
     "output_type": "stream",
     "text": [
      "(76020, 306) (75818, 306)\n"
     ]
    }
   ],
   "source": [
    "print(X_train.shape, test.shape)"
   ]
  },
  {
   "cell_type": "code",
   "execution_count": 86,
   "metadata": {
    "collapsed": false
   },
   "outputs": [
    {
     "data": {
      "image/png": "[encoded data removed]",
      "text/plain": [
       "<matplotlib.figure.Figure at 0x7f16ceba4898>"
      ]
     },
     "metadata": {},
     "output_type": "display_data"
    },
    {
     "name": "stdout",
     "output_type": "stream",
     "text": [
      "(76020, 39) (75818, 39)\n"
     ]
    }
   ],
   "source": [
    "clf = ExtraTreesClassifier(random_state=1729)\n",
    "selector = clf.fit(X_train, y_train)\n",
    "\n",
    "# plot most important features\n",
    "feat_imp = pd.Series(clf.feature_importances_, index = X_train.columns.values).sort_values(ascending=False)\n",
    "feat_imp[:50].plot(kind='bar', title='Feature Importances according to ExtraTreesClassifier', figsize=(12, 8))\n",
    "plt.ylabel('Feature Importance Score')\n",
    "plt.subplots_adjust(bottom=0.3)\n",
    "plt.savefig('1.png')\n",
    "plt.show()\n",
    "\n",
    "# clf.feature_importances_ \n",
    "fs = SelectFromModel(selector, prefit=True)\n",
    "\n",
    "X_train = fs.transform(X_train)\n",
    "test = fs.transform(test)\n",
    "\n",
    "print(X_train.shape, test.shape)"
   ]
  },
  {
   "cell_type": "code",
   "execution_count": 12,
   "metadata": {
    "collapsed": true
   },
   "outputs": [],
   "source": [
    "def trainModel(clf, X_train, y_train):\n",
    "    print(\"Training {}...\".format(clf.__class__.__name__))\n",
    "    start = time.time()\n",
    "    clf.fit(X_train, y_train)\n",
    "    end = time.time()\n",
    "    print(\"Done!\\nTraining time (secs): {:.3f}\".format(end - start))\n",
    "    return clf.fit(X_train, y_train)"
   ]
  },
  {
   "cell_type": "code",
   "execution_count": 13,
   "metadata": {
    "collapsed": true
   },
   "outputs": [],
   "source": [
    "def predict_labels(clf, features, target):\n",
    "    print(\"Predicting labels using {}...\".format(clf.__class__.__name__))\n",
    "    start = time.time()\n",
    "    y_pred = clf.predict(features)\n",
    "    end = time.time()\n",
    "    print(\"Done!\\nPrediction time (secs): {:.3f}\".format(end - start))\n",
    "    return roc_auc_score(target, y_pred)"
   ]
  },
  {
   "cell_type": "code",
   "execution_count": 14,
   "metadata": {
    "collapsed": true
   },
   "outputs": [],
   "source": [
    "def train_predict(clf, X_train, y_train, X_test, y_test):\n",
    "    print (\"------------------------------------------\")\n",
    "    print (\"Training set size: {}\".format(len(X_train)))\n",
    "    trainModel(clf, X_train, y_train)\n",
    "    print (\"ROC score for training set: {}\".format(predict_labels(clf, X_train, y_train)))\n",
    "    print (\"ROC score for test set: {}\".format(predict_labels(clf, X_test, y_test)))"
   ]
  },
  {
   "cell_type": "code",
   "execution_count": 15,
   "metadata": {
    "collapsed": true
   },
   "outputs": [],
   "source": [
    "def score_model(clf, X_train, y_train):\n",
    "    print (\"\\nClassifier: {}...\".format(clf.__class__.__name__))\n",
    "    start = time.time()\n",
    "    clf.fit(X_train, y_train)\n",
    "    scores = cross_validation.cross_val_score(clf, X_train, y_train,\n",
    "                                              scoring='roc_auc', cv=10) \n",
    "    end = time.time()\n",
    "    print (\"time (secs): {:.3f}\".format(end - start))\n",
    "    print (\"roc_auc: {:.3f}\".format(scores.mean()))\n",
    "    return scores.mean()"
   ]
  },
  {
   "cell_type": "code",
   "execution_count": 16,
   "metadata": {
    "collapsed": true
   },
   "outputs": [],
   "source": [
    "clf = GaussianNB()"
   ]
  },
  {
   "cell_type": "code",
   "execution_count": 17,
   "metadata": {
    "collapsed": false
   },
   "outputs": [
    {
     "name": "stdout",
     "output_type": "stream",
     "text": [
      "\n",
      "Classifier: GaussianNB...\n",
      "time (secs): 0.401\n",
      "roc_auc: 0.746\n"
     ]
    },
    {
     "data": {
      "text/plain": [
       "0.74553256470800078"
      ]
     },
     "execution_count": 17,
     "metadata": {},
     "output_type": "execute_result"
    }
   ],
   "source": [
    "score_model(clf, X_train, y_train)"
   ]
  },
  {
   "cell_type": "code",
   "execution_count": 18,
   "metadata": {
    "collapsed": true
   },
   "outputs": [],
   "source": [
    "tree = RandomForestClassifier()"
   ]
  },
  {
   "cell_type": "code",
   "execution_count": 19,
   "metadata": {
    "collapsed": false
   },
   "outputs": [
    {
     "name": "stdout",
     "output_type": "stream",
     "text": [
      "\n",
      "Classifier: RandomForestClassifier...\n",
      "time (secs): 8.988\n",
      "roc_auc: 0.682\n"
     ]
    },
    {
     "data": {
      "text/plain": [
       "0.68224740094454517"
      ]
     },
     "execution_count": 19,
     "metadata": {},
     "output_type": "execute_result"
    }
   ],
   "source": [
    "score_model(tree, X_train, y_train)"
   ]
  },
  {
   "cell_type": "code",
   "execution_count": 20,
   "metadata": {
    "collapsed": true
   },
   "outputs": [],
   "source": [
    "dTree = DecisionTreeClassifier()"
   ]
  },
  {
   "cell_type": "code",
   "execution_count": 21,
   "metadata": {
    "collapsed": false
   },
   "outputs": [
    {
     "name": "stdout",
     "output_type": "stream",
     "text": [
      "\n",
      "Classifier: DecisionTreeClassifier...\n",
      "time (secs): 8.247\n",
      "roc_auc: 0.578\n"
     ]
    },
    {
     "data": {
      "text/plain": [
       "0.57824959813468446"
      ]
     },
     "execution_count": 21,
     "metadata": {},
     "output_type": "execute_result"
    }
   ],
   "source": [
    "score_model(dTree, X_train, y_train)"
   ]
  },
  {
   "cell_type": "code",
   "execution_count": 22,
   "metadata": {
    "collapsed": false
   },
   "outputs": [],
   "source": [
    "logReg = linear_model.LogisticRegression()"
   ]
  },
  {
   "cell_type": "code",
   "execution_count": 23,
   "metadata": {
    "collapsed": false
   },
   "outputs": [
    {
     "name": "stdout",
     "output_type": "stream",
     "text": [
      "\n",
      "Classifier: LogisticRegression...\n",
      "time (secs): 44.865\n",
      "roc_auc: 0.576\n"
     ]
    },
    {
     "data": {
      "text/plain": [
       "0.57646774372866905"
      ]
     },
     "execution_count": 23,
     "metadata": {},
     "output_type": "execute_result"
    }
   ],
   "source": [
    "score_model(logReg, X_train, y_train)"
   ]
  },
  {
   "cell_type": "code",
   "execution_count": 24,
   "metadata": {
    "collapsed": true
   },
   "outputs": [],
   "source": [
    "gboost = ensemble.GradientBoostingClassifier()"
   ]
  },
  {
   "cell_type": "code",
   "execution_count": 25,
   "metadata": {
    "collapsed": false
   },
   "outputs": [
    {
     "name": "stdout",
     "output_type": "stream",
     "text": [
      "\n",
      "Classifier: GradientBoostingClassifier...\n",
      "time (secs): 108.828\n",
      "roc_auc: 0.836\n"
     ]
    },
    {
     "data": {
      "text/plain": [
       "0.83591090410552804"
      ]
     },
     "execution_count": 25,
     "metadata": {},
     "output_type": "execute_result"
    }
   ],
   "source": [
    "score_model(gboost, X_train, y_train)"
   ]
  },
  {
   "cell_type": "code",
   "execution_count": 26,
   "metadata": {
    "collapsed": false
   },
   "outputs": [],
   "source": [
    "m2_xgb = xgb.XGBClassifier()"
   ]
  },
  {
   "cell_type": "code",
   "execution_count": 27,
   "metadata": {
    "collapsed": false
   },
   "outputs": [
    {
     "name": "stdout",
     "output_type": "stream",
     "text": [
      "\n",
      "Classifier: XGBClassifier...\n",
      "time (secs): 20.904\n",
      "roc_auc: 0.838\n"
     ]
    },
    {
     "data": {
      "text/plain": [
       "0.83778824090657023"
      ]
     },
     "execution_count": 27,
     "metadata": {},
     "output_type": "execute_result"
    }
   ],
   "source": [
    "score_model(m2_xgb, X_train, y_train)"
   ]
  },
  {
   "cell_type": "code",
   "execution_count": 28,
   "metadata": {
    "collapsed": true
   },
   "outputs": [],
   "source": [
    "ada = AdaBoostClassifier()"
   ]
  },
  {
   "cell_type": "code",
   "execution_count": 29,
   "metadata": {
    "collapsed": false
   },
   "outputs": [
    {
     "name": "stdout",
     "output_type": "stream",
     "text": [
      "\n",
      "Classifier: AdaBoostClassifier...\n",
      "time (secs): 35.517\n",
      "roc_auc: 0.826\n"
     ]
    },
    {
     "data": {
      "text/plain": [
       "0.82622426816676386"
      ]
     },
     "execution_count": 29,
     "metadata": {},
     "output_type": "execute_result"
    }
   ],
   "source": [
    "score_model(ada, X_train, y_train)"
   ]
  },
  {
   "cell_type": "code",
   "execution_count": 31,
   "metadata": {
    "collapsed": false
   },
   "outputs": [
    {
     "data": {
      "text/plain": [
       "([mean: 0.82522, std: 0.01171, params: {'max_depth': 1, 'min_child_weight': 1},\n",
       "  mean: 0.82522, std: 0.01171, params: {'max_depth': 1, 'min_child_weight': 2},\n",
       "  mean: 0.82522, std: 0.01171, params: {'max_depth': 1, 'min_child_weight': 3},\n",
       "  mean: 0.82522, std: 0.01171, params: {'max_depth': 1, 'min_child_weight': 4},\n",
       "  mean: 0.82522, std: 0.01171, params: {'max_depth': 1, 'min_child_weight': 5},\n",
       "  mean: 0.82522, std: 0.01171, params: {'max_depth': 1, 'min_child_weight': 6},\n",
       "  mean: 0.82522, std: 0.01171, params: {'max_depth': 1, 'min_child_weight': 7},\n",
       "  mean: 0.82522, std: 0.01171, params: {'max_depth': 1, 'min_child_weight': 8},\n",
       "  mean: 0.82522, std: 0.01171, params: {'max_depth': 1, 'min_child_weight': 9},\n",
       "  mean: 0.83531, std: 0.01103, params: {'max_depth': 2, 'min_child_weight': 1},\n",
       "  mean: 0.83549, std: 0.01101, params: {'max_depth': 2, 'min_child_weight': 2},\n",
       "  mean: 0.83535, std: 0.01084, params: {'max_depth': 2, 'min_child_weight': 3},\n",
       "  mean: 0.83538, std: 0.01086, params: {'max_depth': 2, 'min_child_weight': 4},\n",
       "  mean: 0.83539, std: 0.01093, params: {'max_depth': 2, 'min_child_weight': 5},\n",
       "  mean: 0.83552, std: 0.01089, params: {'max_depth': 2, 'min_child_weight': 6},\n",
       "  mean: 0.83538, std: 0.01086, params: {'max_depth': 2, 'min_child_weight': 7},\n",
       "  mean: 0.83541, std: 0.01087, params: {'max_depth': 2, 'min_child_weight': 8},\n",
       "  mean: 0.83529, std: 0.01056, params: {'max_depth': 2, 'min_child_weight': 9},\n",
       "  mean: 0.83779, std: 0.01152, params: {'max_depth': 3, 'min_child_weight': 1},\n",
       "  mean: 0.83756, std: 0.01154, params: {'max_depth': 3, 'min_child_weight': 2},\n",
       "  mean: 0.83788, std: 0.01110, params: {'max_depth': 3, 'min_child_weight': 3},\n",
       "  mean: 0.83774, std: 0.01123, params: {'max_depth': 3, 'min_child_weight': 4},\n",
       "  mean: 0.83790, std: 0.01134, params: {'max_depth': 3, 'min_child_weight': 5},\n",
       "  mean: 0.83803, std: 0.01098, params: {'max_depth': 3, 'min_child_weight': 6},\n",
       "  mean: 0.83791, std: 0.01169, params: {'max_depth': 3, 'min_child_weight': 7},\n",
       "  mean: 0.83780, std: 0.01153, params: {'max_depth': 3, 'min_child_weight': 8},\n",
       "  mean: 0.83825, std: 0.01151, params: {'max_depth': 3, 'min_child_weight': 9},\n",
       "  mean: 0.83809, std: 0.01272, params: {'max_depth': 4, 'min_child_weight': 1},\n",
       "  mean: 0.83831, std: 0.01207, params: {'max_depth': 4, 'min_child_weight': 2},\n",
       "  mean: 0.83863, std: 0.01243, params: {'max_depth': 4, 'min_child_weight': 3},\n",
       "  mean: 0.83874, std: 0.01135, params: {'max_depth': 4, 'min_child_weight': 4},\n",
       "  mean: 0.83877, std: 0.01115, params: {'max_depth': 4, 'min_child_weight': 5},\n",
       "  mean: 0.83881, std: 0.01134, params: {'max_depth': 4, 'min_child_weight': 6},\n",
       "  mean: 0.83873, std: 0.01166, params: {'max_depth': 4, 'min_child_weight': 7},\n",
       "  mean: 0.83893, std: 0.01171, params: {'max_depth': 4, 'min_child_weight': 8},\n",
       "  mean: 0.83906, std: 0.01179, params: {'max_depth': 4, 'min_child_weight': 9},\n",
       "  mean: 0.83808, std: 0.01275, params: {'max_depth': 5, 'min_child_weight': 1},\n",
       "  mean: 0.83849, std: 0.01153, params: {'max_depth': 5, 'min_child_weight': 2},\n",
       "  mean: 0.83831, std: 0.01167, params: {'max_depth': 5, 'min_child_weight': 3},\n",
       "  mean: 0.83861, std: 0.01167, params: {'max_depth': 5, 'min_child_weight': 4},\n",
       "  mean: 0.83819, std: 0.01204, params: {'max_depth': 5, 'min_child_weight': 5},\n",
       "  mean: 0.83865, std: 0.01157, params: {'max_depth': 5, 'min_child_weight': 6},\n",
       "  mean: 0.83813, std: 0.01190, params: {'max_depth': 5, 'min_child_weight': 7},\n",
       "  mean: 0.83835, std: 0.01185, params: {'max_depth': 5, 'min_child_weight': 8},\n",
       "  mean: 0.83850, std: 0.01213, params: {'max_depth': 5, 'min_child_weight': 9},\n",
       "  mean: 0.83680, std: 0.01346, params: {'max_depth': 6, 'min_child_weight': 1},\n",
       "  mean: 0.83638, std: 0.01216, params: {'max_depth': 6, 'min_child_weight': 2},\n",
       "  mean: 0.83742, std: 0.01246, params: {'max_depth': 6, 'min_child_weight': 3},\n",
       "  mean: 0.83727, std: 0.01182, params: {'max_depth': 6, 'min_child_weight': 4},\n",
       "  mean: 0.83771, std: 0.01170, params: {'max_depth': 6, 'min_child_weight': 5},\n",
       "  mean: 0.83780, std: 0.01195, params: {'max_depth': 6, 'min_child_weight': 6},\n",
       "  mean: 0.83820, std: 0.01199, params: {'max_depth': 6, 'min_child_weight': 7},\n",
       "  mean: 0.83808, std: 0.01253, params: {'max_depth': 6, 'min_child_weight': 8},\n",
       "  mean: 0.83821, std: 0.01293, params: {'max_depth': 6, 'min_child_weight': 9},\n",
       "  mean: 0.83530, std: 0.01233, params: {'max_depth': 7, 'min_child_weight': 1},\n",
       "  mean: 0.83474, std: 0.01168, params: {'max_depth': 7, 'min_child_weight': 2},\n",
       "  mean: 0.83596, std: 0.01273, params: {'max_depth': 7, 'min_child_weight': 3},\n",
       "  mean: 0.83654, std: 0.01227, params: {'max_depth': 7, 'min_child_weight': 4},\n",
       "  mean: 0.83701, std: 0.01204, params: {'max_depth': 7, 'min_child_weight': 5},\n",
       "  mean: 0.83661, std: 0.01211, params: {'max_depth': 7, 'min_child_weight': 6},\n",
       "  mean: 0.83714, std: 0.01228, params: {'max_depth': 7, 'min_child_weight': 7},\n",
       "  mean: 0.83692, std: 0.01196, params: {'max_depth': 7, 'min_child_weight': 8},\n",
       "  mean: 0.83803, std: 0.01233, params: {'max_depth': 7, 'min_child_weight': 9},\n",
       "  mean: 0.83398, std: 0.01267, params: {'max_depth': 8, 'min_child_weight': 1},\n",
       "  mean: 0.83449, std: 0.01264, params: {'max_depth': 8, 'min_child_weight': 2},\n",
       "  mean: 0.83453, std: 0.01147, params: {'max_depth': 8, 'min_child_weight': 3},\n",
       "  mean: 0.83468, std: 0.01234, params: {'max_depth': 8, 'min_child_weight': 4},\n",
       "  mean: 0.83605, std: 0.01170, params: {'max_depth': 8, 'min_child_weight': 5},\n",
       "  mean: 0.83554, std: 0.01306, params: {'max_depth': 8, 'min_child_weight': 6},\n",
       "  mean: 0.83617, std: 0.01192, params: {'max_depth': 8, 'min_child_weight': 7},\n",
       "  mean: 0.83605, std: 0.01272, params: {'max_depth': 8, 'min_child_weight': 8},\n",
       "  mean: 0.83640, std: 0.01306, params: {'max_depth': 8, 'min_child_weight': 9},\n",
       "  mean: 0.83142, std: 0.01347, params: {'max_depth': 9, 'min_child_weight': 1},\n",
       "  mean: 0.83224, std: 0.01378, params: {'max_depth': 9, 'min_child_weight': 2},\n",
       "  mean: 0.83373, std: 0.01269, params: {'max_depth': 9, 'min_child_weight': 3},\n",
       "  mean: 0.83465, std: 0.01308, params: {'max_depth': 9, 'min_child_weight': 4},\n",
       "  mean: 0.83508, std: 0.01267, params: {'max_depth': 9, 'min_child_weight': 5},\n",
       "  mean: 0.83409, std: 0.01349, params: {'max_depth': 9, 'min_child_weight': 6},\n",
       "  mean: 0.83548, std: 0.01238, params: {'max_depth': 9, 'min_child_weight': 7},\n",
       "  mean: 0.83517, std: 0.01292, params: {'max_depth': 9, 'min_child_weight': 8},\n",
       "  mean: 0.83517, std: 0.01347, params: {'max_depth': 9, 'min_child_weight': 9}],\n",
       " {'max_depth': 4, 'min_child_weight': 9},\n",
       " 0.83905537625113102)"
      ]
     },
     "execution_count": 31,
     "metadata": {},
     "output_type": "execute_result"
    }
   ],
   "source": [
    "param_test1 = {\n",
    " 'max_depth': [1,2,3,4,5,6,7,8,9],\n",
    " 'min_child_weight': [1,2,3,4,5,6,7,8,9]\n",
    "}\n",
    "\n",
    "gsearch1 = GridSearchCV(estimator = XGBClassifier(objective= 'binary:logistic'), \n",
    " param_grid = param_test1, scoring='roc_auc', cv=10)\n",
    "\n",
    "gsearch1.fit(X_train, y_train)\n",
    "\n",
    "gsearch1.grid_scores_, gsearch1.best_params_, gsearch1.best_score_"
   ]
  },
  {
   "cell_type": "code",
   "execution_count": 32,
   "metadata": {
    "collapsed": false
   },
   "outputs": [
    {
     "data": {
      "text/plain": [
       "([mean: 0.83873, std: 0.01166, params: {'min_child_weight': 7},\n",
       "  mean: 0.83893, std: 0.01171, params: {'min_child_weight': 8},\n",
       "  mean: 0.83906, std: 0.01179, params: {'min_child_weight': 9},\n",
       "  mean: 0.83900, std: 0.01187, params: {'min_child_weight': 10},\n",
       "  mean: 0.83873, std: 0.01164, params: {'min_child_weight': 11},\n",
       "  mean: 0.83894, std: 0.01210, params: {'min_child_weight': 12},\n",
       "  mean: 0.83891, std: 0.01196, params: {'min_child_weight': 13}],\n",
       " {'min_child_weight': 9},\n",
       " 0.83905537625113102)"
      ]
     },
     "execution_count": 32,
     "metadata": {},
     "output_type": "execute_result"
    }
   ],
   "source": [
    "param_test1 = {\n",
    " 'min_child_weight': [7,8,9,10,11,12,13]\n",
    "}\n",
    "\n",
    "gsearch1 = GridSearchCV(estimator = XGBClassifier(max_depth=4, objective= 'binary:logistic'), \n",
    " param_grid = param_test1, scoring='roc_auc', cv=10)\n",
    "\n",
    "gsearch1.fit(X_train, y_train)\n",
    "\n",
    "gsearch1.grid_scores_, gsearch1.best_params_, gsearch1.best_score_"
   ]
  },
  {
   "cell_type": "code",
   "execution_count": 33,
   "metadata": {
    "collapsed": false
   },
   "outputs": [
    {
     "data": {
      "text/plain": [
       "([mean: 0.83906, std: 0.01179, params: {'gamma': 0.0},\n",
       "  mean: 0.83891, std: 0.01223, params: {'gamma': 0.1},\n",
       "  mean: 0.83887, std: 0.01197, params: {'gamma': 0.2},\n",
       "  mean: 0.83940, std: 0.01202, params: {'gamma': 0.3},\n",
       "  mean: 0.83936, std: 0.01221, params: {'gamma': 0.4},\n",
       "  mean: 0.83964, std: 0.01188, params: {'gamma': 0.5},\n",
       "  mean: 0.83901, std: 0.01191, params: {'gamma': 0.6},\n",
       "  mean: 0.83920, std: 0.01211, params: {'gamma': 0.7},\n",
       "  mean: 0.83897, std: 0.01194, params: {'gamma': 0.8},\n",
       "  mean: 0.83926, std: 0.01217, params: {'gamma': 0.9},\n",
       "  mean: 0.83864, std: 0.01216, params: {'gamma': 1.0}],\n",
       " {'gamma': 0.5},\n",
       " 0.83964380690225315)"
      ]
     },
     "execution_count": 33,
     "metadata": {},
     "output_type": "execute_result"
    }
   ],
   "source": [
    "param_test2 = {\n",
    " 'gamma':[i/10.0 for i in range(0,11)]\n",
    "}\n",
    "gsearch2 = GridSearchCV(estimator = XGBClassifier(max_depth=4, min_child_weight=9, objective= 'binary:logistic'), \n",
    " param_grid = param_test2, scoring='roc_auc', cv=10)\n",
    "\n",
    "gsearch2.fit(X_train, y_train)\n",
    "\n",
    "gsearch2.grid_scores_, gsearch2.best_params_, gsearch2.best_score_"
   ]
  },
  {
   "cell_type": "code",
   "execution_count": 34,
   "metadata": {
    "collapsed": false
   },
   "outputs": [
    {
     "data": {
      "text/plain": [
       "([mean: 0.80369, std: 0.01410, params: {'subsample': 0.1, 'colsample_bytree': 0.1},\n",
       "  mean: 0.80836, std: 0.01515, params: {'subsample': 0.2, 'colsample_bytree': 0.1},\n",
       "  mean: 0.80926, std: 0.01455, params: {'subsample': 0.3, 'colsample_bytree': 0.1},\n",
       "  mean: 0.81013, std: 0.01404, params: {'subsample': 0.4, 'colsample_bytree': 0.1},\n",
       "  mean: 0.81026, std: 0.01374, params: {'subsample': 0.5, 'colsample_bytree': 0.1},\n",
       "  mean: 0.81203, std: 0.01272, params: {'subsample': 0.6, 'colsample_bytree': 0.1},\n",
       "  mean: 0.81158, std: 0.01299, params: {'subsample': 0.7, 'colsample_bytree': 0.1},\n",
       "  mean: 0.81130, std: 0.01340, params: {'subsample': 0.8, 'colsample_bytree': 0.1},\n",
       "  mean: 0.81169, std: 0.01353, params: {'subsample': 0.9, 'colsample_bytree': 0.1},\n",
       "  mean: 0.82849, std: 0.01361, params: {'subsample': 0.1, 'colsample_bytree': 0.2},\n",
       "  mean: 0.83103, std: 0.01325, params: {'subsample': 0.2, 'colsample_bytree': 0.2},\n",
       "  mean: 0.83174, std: 0.01258, params: {'subsample': 0.3, 'colsample_bytree': 0.2},\n",
       "  mean: 0.83224, std: 0.01323, params: {'subsample': 0.4, 'colsample_bytree': 0.2},\n",
       "  mean: 0.83274, std: 0.01248, params: {'subsample': 0.5, 'colsample_bytree': 0.2},\n",
       "  mean: 0.83339, std: 0.01289, params: {'subsample': 0.6, 'colsample_bytree': 0.2},\n",
       "  mean: 0.83389, std: 0.01247, params: {'subsample': 0.7, 'colsample_bytree': 0.2},\n",
       "  mean: 0.83355, std: 0.01212, params: {'subsample': 0.8, 'colsample_bytree': 0.2},\n",
       "  mean: 0.83349, std: 0.01310, params: {'subsample': 0.9, 'colsample_bytree': 0.2},\n",
       "  mean: 0.83402, std: 0.01275, params: {'subsample': 0.1, 'colsample_bytree': 0.3},\n",
       "  mean: 0.83690, std: 0.01134, params: {'subsample': 0.2, 'colsample_bytree': 0.3},\n",
       "  mean: 0.83804, std: 0.01306, params: {'subsample': 0.3, 'colsample_bytree': 0.3},\n",
       "  mean: 0.83828, std: 0.01277, params: {'subsample': 0.4, 'colsample_bytree': 0.3},\n",
       "  mean: 0.83941, std: 0.01169, params: {'subsample': 0.5, 'colsample_bytree': 0.3},\n",
       "  mean: 0.83910, std: 0.01111, params: {'subsample': 0.6, 'colsample_bytree': 0.3},\n",
       "  mean: 0.83892, std: 0.01210, params: {'subsample': 0.7, 'colsample_bytree': 0.3},\n",
       "  mean: 0.83905, std: 0.01248, params: {'subsample': 0.8, 'colsample_bytree': 0.3},\n",
       "  mean: 0.83891, std: 0.01215, params: {'subsample': 0.9, 'colsample_bytree': 0.3},\n",
       "  mean: 0.83521, std: 0.01143, params: {'subsample': 0.1, 'colsample_bytree': 0.4},\n",
       "  mean: 0.83861, std: 0.01071, params: {'subsample': 0.2, 'colsample_bytree': 0.4},\n",
       "  mean: 0.83954, std: 0.01117, params: {'subsample': 0.3, 'colsample_bytree': 0.4},\n",
       "  mean: 0.83884, std: 0.01153, params: {'subsample': 0.4, 'colsample_bytree': 0.4},\n",
       "  mean: 0.83976, std: 0.01067, params: {'subsample': 0.5, 'colsample_bytree': 0.4},\n",
       "  mean: 0.84043, std: 0.01096, params: {'subsample': 0.6, 'colsample_bytree': 0.4},\n",
       "  mean: 0.84057, std: 0.01140, params: {'subsample': 0.7, 'colsample_bytree': 0.4},\n",
       "  mean: 0.84087, std: 0.01084, params: {'subsample': 0.8, 'colsample_bytree': 0.4},\n",
       "  mean: 0.84043, std: 0.01163, params: {'subsample': 0.9, 'colsample_bytree': 0.4},\n",
       "  mean: 0.83553, std: 0.01082, params: {'subsample': 0.1, 'colsample_bytree': 0.5},\n",
       "  mean: 0.83931, std: 0.01063, params: {'subsample': 0.2, 'colsample_bytree': 0.5},\n",
       "  mean: 0.83995, std: 0.01191, params: {'subsample': 0.3, 'colsample_bytree': 0.5},\n",
       "  mean: 0.83938, std: 0.01051, params: {'subsample': 0.4, 'colsample_bytree': 0.5},\n",
       "  mean: 0.83990, std: 0.01070, params: {'subsample': 0.5, 'colsample_bytree': 0.5},\n",
       "  mean: 0.84082, std: 0.01137, params: {'subsample': 0.6, 'colsample_bytree': 0.5},\n",
       "  mean: 0.84050, std: 0.01096, params: {'subsample': 0.7, 'colsample_bytree': 0.5},\n",
       "  mean: 0.84050, std: 0.01099, params: {'subsample': 0.8, 'colsample_bytree': 0.5},\n",
       "  mean: 0.84063, std: 0.01168, params: {'subsample': 0.9, 'colsample_bytree': 0.5},\n",
       "  mean: 0.83487, std: 0.01183, params: {'subsample': 0.1, 'colsample_bytree': 0.6},\n",
       "  mean: 0.83857, std: 0.01074, params: {'subsample': 0.2, 'colsample_bytree': 0.6},\n",
       "  mean: 0.83939, std: 0.01254, params: {'subsample': 0.3, 'colsample_bytree': 0.6},\n",
       "  mean: 0.83984, std: 0.01107, params: {'subsample': 0.4, 'colsample_bytree': 0.6},\n",
       "  mean: 0.83951, std: 0.01110, params: {'subsample': 0.5, 'colsample_bytree': 0.6},\n",
       "  mean: 0.84015, std: 0.01144, params: {'subsample': 0.6, 'colsample_bytree': 0.6},\n",
       "  mean: 0.84048, std: 0.01107, params: {'subsample': 0.7, 'colsample_bytree': 0.6},\n",
       "  mean: 0.84090, std: 0.01082, params: {'subsample': 0.8, 'colsample_bytree': 0.6},\n",
       "  mean: 0.84012, std: 0.01236, params: {'subsample': 0.9, 'colsample_bytree': 0.6},\n",
       "  mean: 0.83457, std: 0.01117, params: {'subsample': 0.1, 'colsample_bytree': 0.7},\n",
       "  mean: 0.83897, std: 0.01124, params: {'subsample': 0.2, 'colsample_bytree': 0.7},\n",
       "  mean: 0.83936, std: 0.01209, params: {'subsample': 0.3, 'colsample_bytree': 0.7},\n",
       "  mean: 0.83948, std: 0.01149, params: {'subsample': 0.4, 'colsample_bytree': 0.7},\n",
       "  mean: 0.84019, std: 0.01064, params: {'subsample': 0.5, 'colsample_bytree': 0.7},\n",
       "  mean: 0.83961, std: 0.01097, params: {'subsample': 0.6, 'colsample_bytree': 0.7},\n",
       "  mean: 0.84017, std: 0.01077, params: {'subsample': 0.7, 'colsample_bytree': 0.7},\n",
       "  mean: 0.84071, std: 0.01227, params: {'subsample': 0.8, 'colsample_bytree': 0.7},\n",
       "  mean: 0.84027, std: 0.01191, params: {'subsample': 0.9, 'colsample_bytree': 0.7},\n",
       "  mean: 0.83417, std: 0.01112, params: {'subsample': 0.1, 'colsample_bytree': 0.8},\n",
       "  mean: 0.83843, std: 0.01131, params: {'subsample': 0.2, 'colsample_bytree': 0.8},\n",
       "  mean: 0.83991, std: 0.01169, params: {'subsample': 0.3, 'colsample_bytree': 0.8},\n",
       "  mean: 0.83979, std: 0.01146, params: {'subsample': 0.4, 'colsample_bytree': 0.8},\n",
       "  mean: 0.83957, std: 0.01071, params: {'subsample': 0.5, 'colsample_bytree': 0.8},\n",
       "  mean: 0.84003, std: 0.01109, params: {'subsample': 0.6, 'colsample_bytree': 0.8},\n",
       "  mean: 0.83980, std: 0.01101, params: {'subsample': 0.7, 'colsample_bytree': 0.8},\n",
       "  mean: 0.84014, std: 0.01162, params: {'subsample': 0.8, 'colsample_bytree': 0.8},\n",
       "  mean: 0.83998, std: 0.01154, params: {'subsample': 0.9, 'colsample_bytree': 0.8},\n",
       "  mean: 0.83395, std: 0.01129, params: {'subsample': 0.1, 'colsample_bytree': 0.9},\n",
       "  mean: 0.83851, std: 0.01030, params: {'subsample': 0.2, 'colsample_bytree': 0.9},\n",
       "  mean: 0.84039, std: 0.01136, params: {'subsample': 0.3, 'colsample_bytree': 0.9},\n",
       "  mean: 0.83861, std: 0.01225, params: {'subsample': 0.4, 'colsample_bytree': 0.9},\n",
       "  mean: 0.83965, std: 0.01078, params: {'subsample': 0.5, 'colsample_bytree': 0.9},\n",
       "  mean: 0.83956, std: 0.01144, params: {'subsample': 0.6, 'colsample_bytree': 0.9},\n",
       "  mean: 0.84020, std: 0.01142, params: {'subsample': 0.7, 'colsample_bytree': 0.9},\n",
       "  mean: 0.83989, std: 0.01194, params: {'subsample': 0.8, 'colsample_bytree': 0.9},\n",
       "  mean: 0.83907, std: 0.01168, params: {'subsample': 0.9, 'colsample_bytree': 0.9}],\n",
       " {'colsample_bytree': 0.6, 'subsample': 0.8},\n",
       " 0.84089958805995701)"
      ]
     },
     "execution_count": 34,
     "metadata": {},
     "output_type": "execute_result"
    }
   ],
   "source": [
    "param_test3 = {\n",
    " 'subsample':[i/10.0 for i in range(1,10)],\n",
    " 'colsample_bytree':[i/10.0 for i in range(1,10)]\n",
    "}\n",
    "\n",
    "gsearch3 = GridSearchCV(estimator = XGBClassifier(max_depth=4, min_child_weight=9, gamma=0.5, objective= 'binary:logistic'), \n",
    " param_grid = param_test3, scoring='roc_auc', cv=10)\n",
    "\n",
    "gsearch3.fit(X_train, y_train)\n",
    "\n",
    "gsearch3.grid_scores_, gsearch3.best_params_, gsearch3.best_score_"
   ]
  },
  {
   "cell_type": "code",
   "execution_count": 38,
   "metadata": {
    "collapsed": false
   },
   "outputs": [
    {
     "data": {
      "text/plain": [
       "([mean: 0.84090, std: 0.01082, params: {'reg_alpha': 1e-05},\n",
       "  mean: 0.84090, std: 0.01082, params: {'reg_alpha': 2e-05},\n",
       "  mean: 0.84090, std: 0.01082, params: {'reg_alpha': 3e-05},\n",
       "  mean: 0.84090, std: 0.01082, params: {'reg_alpha': 4e-05},\n",
       "  mean: 0.84090, std: 0.01082, params: {'reg_alpha': 5e-05},\n",
       "  mean: 0.84090, std: 0.01082, params: {'reg_alpha': 6e-05},\n",
       "  mean: 0.84090, std: 0.01082, params: {'reg_alpha': 7e-05},\n",
       "  mean: 0.84090, std: 0.01082, params: {'reg_alpha': 8e-05}],\n",
       " {'reg_alpha': 1e-05},\n",
       " 0.8408996108848773)"
      ]
     },
     "execution_count": 38,
     "metadata": {},
     "output_type": "execute_result"
    }
   ],
   "source": [
    "param_test4 = {\n",
    " 'reg_alpha':[i/100000 for i in range(1,9)]\n",
    "}\n",
    "\n",
    "gsearch4 = GridSearchCV(estimator = XGBClassifier( max_depth=4, min_child_weight=9, gamma=0.5, subsample=0.8,\n",
    "                                                  colsample_bytree=0.6, objective= 'binary:logistic'), \n",
    " param_grid = param_test4, scoring='roc_auc', cv=10)\n",
    "\n",
    "gsearch4.fit(X_train, y_train)\n",
    "\n",
    "gsearch4.grid_scores_, gsearch4.best_params_, gsearch4.best_score_"
   ]
  },
  {
   "cell_type": "code",
   "execution_count": 40,
   "metadata": {
    "collapsed": false
   },
   "outputs": [
    {
     "data": {
      "text/plain": [
       "([mean: 0.50000, std: 0.00000, params: {'learning_rate': 0.0},\n",
       "  mean: 0.82117, std: 0.01536, params: {'learning_rate': 0.01},\n",
       "  mean: 0.82657, std: 0.01511, params: {'learning_rate': 0.02},\n",
       "  mean: 0.83175, std: 0.01404, params: {'learning_rate': 0.03},\n",
       "  mean: 0.83604, std: 0.01312, params: {'learning_rate': 0.04},\n",
       "  mean: 0.83850, std: 0.01243, params: {'learning_rate': 0.05},\n",
       "  mean: 0.83962, std: 0.01185, params: {'learning_rate': 0.06},\n",
       "  mean: 0.84018, std: 0.01161, params: {'learning_rate': 0.07},\n",
       "  mean: 0.84034, std: 0.01179, params: {'learning_rate': 0.08},\n",
       "  mean: 0.84050, std: 0.01103, params: {'learning_rate': 0.09},\n",
       "  mean: 0.84090, std: 0.01082, params: {'learning_rate': 0.1},\n",
       "  mean: 0.84009, std: 0.01135, params: {'learning_rate': 0.11},\n",
       "  mean: 0.83983, std: 0.01107, params: {'learning_rate': 0.12},\n",
       "  mean: 0.83952, std: 0.01136, params: {'learning_rate': 0.13},\n",
       "  mean: 0.83876, std: 0.01181, params: {'learning_rate': 0.14},\n",
       "  mean: 0.83888, std: 0.01180, params: {'learning_rate': 0.15},\n",
       "  mean: 0.83876, std: 0.01189, params: {'learning_rate': 0.16},\n",
       "  mean: 0.83874, std: 0.01157, params: {'learning_rate': 0.17},\n",
       "  mean: 0.83834, std: 0.01219, params: {'learning_rate': 0.18},\n",
       "  mean: 0.83823, std: 0.01152, params: {'learning_rate': 0.19},\n",
       "  mean: 0.83777, std: 0.01160, params: {'learning_rate': 0.2},\n",
       "  mean: 0.83754, std: 0.01104, params: {'learning_rate': 0.21},\n",
       "  mean: 0.83721, std: 0.01239, params: {'learning_rate': 0.22},\n",
       "  mean: 0.83670, std: 0.01299, params: {'learning_rate': 0.23},\n",
       "  mean: 0.83546, std: 0.01288, params: {'learning_rate': 0.24},\n",
       "  mean: 0.83463, std: 0.01287, params: {'learning_rate': 0.25},\n",
       "  mean: 0.83519, std: 0.01186, params: {'learning_rate': 0.26},\n",
       "  mean: 0.83531, std: 0.01247, params: {'learning_rate': 0.27},\n",
       "  mean: 0.83428, std: 0.01322, params: {'learning_rate': 0.28},\n",
       "  mean: 0.83453, std: 0.01253, params: {'learning_rate': 0.29}],\n",
       " {'learning_rate': 0.1},\n",
       " 0.8408996108848773)"
      ]
     },
     "execution_count": 40,
     "metadata": {},
     "output_type": "execute_result"
    }
   ],
   "source": [
    "param_test7 = {\n",
    " 'learning_rate':[i/100 for i in range(0,30)]\n",
    "}\n",
    "\n",
    "gsearch7 = GridSearchCV(estimator = XGBClassifier(max_depth=4,min_child_weight=9, gamma=0.5, subsample=0.8,\n",
    "                                                  colsample_bytree=0.6, reg_alpha=1e-05, objective= 'binary:logistic'),\n",
    "                        param_grid = param_test7, scoring='roc_auc', cv=10 )\n",
    "\n",
    "gsearch7.fit(X_train, y_train)\n",
    "\n",
    "gsearch7.grid_scores_, gsearch7.best_params_, gsearch7.best_score_"
   ]
  },
  {
   "cell_type": "code",
   "execution_count": 44,
   "metadata": {
    "collapsed": false
   },
   "outputs": [
    {
     "data": {
      "text/plain": [
       "([mean: 0.84090, std: 0.01082, params: {'nthread': -10},\n",
       "  mean: 0.84090, std: 0.01082, params: {'nthread': -9},\n",
       "  mean: 0.84090, std: 0.01082, params: {'nthread': -8},\n",
       "  mean: 0.84090, std: 0.01082, params: {'nthread': -7},\n",
       "  mean: 0.84090, std: 0.01082, params: {'nthread': -6},\n",
       "  mean: 0.84090, std: 0.01082, params: {'nthread': -5},\n",
       "  mean: 0.84090, std: 0.01082, params: {'nthread': -4},\n",
       "  mean: 0.84090, std: 0.01082, params: {'nthread': -3},\n",
       "  mean: 0.84090, std: 0.01082, params: {'nthread': -2},\n",
       "  mean: 0.84090, std: 0.01082, params: {'nthread': -1},\n",
       "  mean: 0.84090, std: 0.01082, params: {'nthread': 0},\n",
       "  mean: 0.84090, std: 0.01082, params: {'nthread': 1},\n",
       "  mean: 0.84090, std: 0.01082, params: {'nthread': 2},\n",
       "  mean: 0.84090, std: 0.01082, params: {'nthread': 3},\n",
       "  mean: 0.84090, std: 0.01082, params: {'nthread': 4},\n",
       "  mean: 0.84090, std: 0.01082, params: {'nthread': 5},\n",
       "  mean: 0.84090, std: 0.01082, params: {'nthread': 6},\n",
       "  mean: 0.84090, std: 0.01082, params: {'nthread': 7},\n",
       "  mean: 0.84090, std: 0.01082, params: {'nthread': 8},\n",
       "  mean: 0.84090, std: 0.01082, params: {'nthread': 9},\n",
       "  mean: 0.84090, std: 0.01082, params: {'nthread': 10},\n",
       "  mean: 0.84090, std: 0.01082, params: {'nthread': 11},\n",
       "  mean: 0.84090, std: 0.01082, params: {'nthread': 12},\n",
       "  mean: 0.84090, std: 0.01082, params: {'nthread': 13},\n",
       "  mean: 0.84090, std: 0.01082, params: {'nthread': 14},\n",
       "  mean: 0.84090, std: 0.01082, params: {'nthread': 15},\n",
       "  mean: 0.84090, std: 0.01082, params: {'nthread': 16},\n",
       "  mean: 0.84090, std: 0.01082, params: {'nthread': 17},\n",
       "  mean: 0.84090, std: 0.01082, params: {'nthread': 18},\n",
       "  mean: 0.84090, std: 0.01082, params: {'nthread': 19},\n",
       "  mean: 0.84090, std: 0.01082, params: {'nthread': 20},\n",
       "  mean: 0.84090, std: 0.01082, params: {'nthread': 21},\n",
       "  mean: 0.84090, std: 0.01082, params: {'nthread': 22},\n",
       "  mean: 0.84090, std: 0.01082, params: {'nthread': 23},\n",
       "  mean: 0.84090, std: 0.01082, params: {'nthread': 24},\n",
       "  mean: 0.84090, std: 0.01082, params: {'nthread': 25},\n",
       "  mean: 0.84090, std: 0.01082, params: {'nthread': 26},\n",
       "  mean: 0.84090, std: 0.01082, params: {'nthread': 27},\n",
       "  mean: 0.84090, std: 0.01082, params: {'nthread': 28},\n",
       "  mean: 0.84090, std: 0.01082, params: {'nthread': 29}],\n",
       " {'nthread': -10},\n",
       " 0.8408996108848773)"
      ]
     },
     "execution_count": 44,
     "metadata": {},
     "output_type": "execute_result"
    }
   ],
   "source": [
    "param_test8 = {\n",
    " 'nthread':[i for i in range(-10,30)]\n",
    "}\n",
    "\n",
    "gsearch8 = GridSearchCV(estimator = XGBClassifier(max_depth=4,min_child_weight=9, gamma=0.5, subsample=0.8,\n",
    "                                                  colsample_bytree=0.6, reg_alpha=1e-05, learning_rate=0.1,\n",
    "                                                  objective= 'binary:logistic'),\n",
    "                        param_grid = param_test8, scoring='roc_auc', cv=10 )\n",
    "\n",
    "gsearch8.fit(X_train, y_train)\n",
    "\n",
    "gsearch8.grid_scores_, gsearch8.best_params_, gsearch8.best_score_"
   ]
  },
  {
   "cell_type": "code",
   "execution_count": 31,
   "metadata": {
    "collapsed": false
   },
   "outputs": [
    {
     "data": {
      "text/plain": [
       "([mean: 0.83805, std: 0.01198, params: {'n_estimators': 50},\n",
       "  mean: 0.83821, std: 0.01178, params: {'n_estimators': 51},\n",
       "  mean: 0.83839, std: 0.01166, params: {'n_estimators': 52},\n",
       "  mean: 0.83869, std: 0.01166, params: {'n_estimators': 53},\n",
       "  mean: 0.83889, std: 0.01165, params: {'n_estimators': 54},\n",
       "  mean: 0.83900, std: 0.01160, params: {'n_estimators': 55},\n",
       "  mean: 0.83905, std: 0.01154, params: {'n_estimators': 56},\n",
       "  mean: 0.83904, std: 0.01159, params: {'n_estimators': 57},\n",
       "  mean: 0.83921, std: 0.01160, params: {'n_estimators': 58},\n",
       "  mean: 0.83917, std: 0.01170, params: {'n_estimators': 59},\n",
       "  mean: 0.83924, std: 0.01156, params: {'n_estimators': 60},\n",
       "  mean: 0.83945, std: 0.01149, params: {'n_estimators': 61},\n",
       "  mean: 0.83952, std: 0.01137, params: {'n_estimators': 62},\n",
       "  mean: 0.83973, std: 0.01130, params: {'n_estimators': 63},\n",
       "  mean: 0.83981, std: 0.01138, params: {'n_estimators': 64},\n",
       "  mean: 0.83998, std: 0.01138, params: {'n_estimators': 65},\n",
       "  mean: 0.84002, std: 0.01142, params: {'n_estimators': 66},\n",
       "  mean: 0.83999, std: 0.01160, params: {'n_estimators': 67},\n",
       "  mean: 0.83997, std: 0.01164, params: {'n_estimators': 68},\n",
       "  mean: 0.84006, std: 0.01166, params: {'n_estimators': 69},\n",
       "  mean: 0.84028, std: 0.01157, params: {'n_estimators': 70},\n",
       "  mean: 0.84035, std: 0.01154, params: {'n_estimators': 71},\n",
       "  mean: 0.84043, std: 0.01142, params: {'n_estimators': 72},\n",
       "  mean: 0.84049, std: 0.01144, params: {'n_estimators': 73},\n",
       "  mean: 0.84046, std: 0.01143, params: {'n_estimators': 74},\n",
       "  mean: 0.84047, std: 0.01144, params: {'n_estimators': 75},\n",
       "  mean: 0.84055, std: 0.01144, params: {'n_estimators': 76},\n",
       "  mean: 0.84063, std: 0.01143, params: {'n_estimators': 77},\n",
       "  mean: 0.84066, std: 0.01135, params: {'n_estimators': 78},\n",
       "  mean: 0.84061, std: 0.01122, params: {'n_estimators': 79},\n",
       "  mean: 0.84067, std: 0.01121, params: {'n_estimators': 80},\n",
       "  mean: 0.84066, std: 0.01111, params: {'n_estimators': 81},\n",
       "  mean: 0.84070, std: 0.01113, params: {'n_estimators': 82},\n",
       "  mean: 0.84081, std: 0.01108, params: {'n_estimators': 83},\n",
       "  mean: 0.84089, std: 0.01109, params: {'n_estimators': 84},\n",
       "  mean: 0.84088, std: 0.01115, params: {'n_estimators': 85},\n",
       "  mean: 0.84087, std: 0.01102, params: {'n_estimators': 86},\n",
       "  mean: 0.84094, std: 0.01099, params: {'n_estimators': 87},\n",
       "  mean: 0.84103, std: 0.01096, params: {'n_estimators': 88},\n",
       "  mean: 0.84102, std: 0.01096, params: {'n_estimators': 89},\n",
       "  mean: 0.84101, std: 0.01098, params: {'n_estimators': 90},\n",
       "  mean: 0.84095, std: 0.01088, params: {'n_estimators': 91},\n",
       "  mean: 0.84099, std: 0.01094, params: {'n_estimators': 92},\n",
       "  mean: 0.84093, std: 0.01093, params: {'n_estimators': 93},\n",
       "  mean: 0.84097, std: 0.01081, params: {'n_estimators': 94},\n",
       "  mean: 0.84099, std: 0.01087, params: {'n_estimators': 95},\n",
       "  mean: 0.84099, std: 0.01096, params: {'n_estimators': 96},\n",
       "  mean: 0.84100, std: 0.01096, params: {'n_estimators': 97},\n",
       "  mean: 0.84086, std: 0.01095, params: {'n_estimators': 98},\n",
       "  mean: 0.84093, std: 0.01088, params: {'n_estimators': 99},\n",
       "  mean: 0.84090, std: 0.01082, params: {'n_estimators': 100},\n",
       "  mean: 0.84085, std: 0.01085, params: {'n_estimators': 101},\n",
       "  mean: 0.84089, std: 0.01084, params: {'n_estimators': 102},\n",
       "  mean: 0.84082, std: 0.01080, params: {'n_estimators': 103},\n",
       "  mean: 0.84088, std: 0.01090, params: {'n_estimators': 104},\n",
       "  mean: 0.84090, std: 0.01090, params: {'n_estimators': 105},\n",
       "  mean: 0.84089, std: 0.01088, params: {'n_estimators': 106},\n",
       "  mean: 0.84086, std: 0.01095, params: {'n_estimators': 107},\n",
       "  mean: 0.84093, std: 0.01094, params: {'n_estimators': 108},\n",
       "  mean: 0.84090, std: 0.01101, params: {'n_estimators': 109},\n",
       "  mean: 0.84095, std: 0.01101, params: {'n_estimators': 110},\n",
       "  mean: 0.84091, std: 0.01115, params: {'n_estimators': 111},\n",
       "  mean: 0.84089, std: 0.01123, params: {'n_estimators': 112},\n",
       "  mean: 0.84078, std: 0.01117, params: {'n_estimators': 113},\n",
       "  mean: 0.84072, std: 0.01124, params: {'n_estimators': 114},\n",
       "  mean: 0.84076, std: 0.01130, params: {'n_estimators': 115},\n",
       "  mean: 0.84073, std: 0.01132, params: {'n_estimators': 116},\n",
       "  mean: 0.84080, std: 0.01125, params: {'n_estimators': 117},\n",
       "  mean: 0.84073, std: 0.01126, params: {'n_estimators': 118},\n",
       "  mean: 0.84069, std: 0.01129, params: {'n_estimators': 119},\n",
       "  mean: 0.84069, std: 0.01130, params: {'n_estimators': 120},\n",
       "  mean: 0.84065, std: 0.01136, params: {'n_estimators': 121},\n",
       "  mean: 0.84059, std: 0.01132, params: {'n_estimators': 122},\n",
       "  mean: 0.84060, std: 0.01138, params: {'n_estimators': 123},\n",
       "  mean: 0.84063, std: 0.01133, params: {'n_estimators': 124},\n",
       "  mean: 0.84050, std: 0.01131, params: {'n_estimators': 125},\n",
       "  mean: 0.84048, std: 0.01134, params: {'n_estimators': 126},\n",
       "  mean: 0.84048, std: 0.01130, params: {'n_estimators': 127},\n",
       "  mean: 0.84042, std: 0.01127, params: {'n_estimators': 128},\n",
       "  mean: 0.84047, std: 0.01121, params: {'n_estimators': 129},\n",
       "  mean: 0.84045, std: 0.01127, params: {'n_estimators': 130},\n",
       "  mean: 0.84049, std: 0.01117, params: {'n_estimators': 131},\n",
       "  mean: 0.84051, std: 0.01124, params: {'n_estimators': 132},\n",
       "  mean: 0.84046, std: 0.01122, params: {'n_estimators': 133},\n",
       "  mean: 0.84046, std: 0.01124, params: {'n_estimators': 134},\n",
       "  mean: 0.84044, std: 0.01123, params: {'n_estimators': 135},\n",
       "  mean: 0.84042, std: 0.01124, params: {'n_estimators': 136},\n",
       "  mean: 0.84041, std: 0.01132, params: {'n_estimators': 137},\n",
       "  mean: 0.84040, std: 0.01135, params: {'n_estimators': 138},\n",
       "  mean: 0.84043, std: 0.01138, params: {'n_estimators': 139},\n",
       "  mean: 0.84042, std: 0.01139, params: {'n_estimators': 140},\n",
       "  mean: 0.84035, std: 0.01140, params: {'n_estimators': 141},\n",
       "  mean: 0.84039, std: 0.01143, params: {'n_estimators': 142},\n",
       "  mean: 0.84038, std: 0.01144, params: {'n_estimators': 143},\n",
       "  mean: 0.84032, std: 0.01142, params: {'n_estimators': 144},\n",
       "  mean: 0.84034, std: 0.01143, params: {'n_estimators': 145},\n",
       "  mean: 0.84037, std: 0.01146, params: {'n_estimators': 146},\n",
       "  mean: 0.84035, std: 0.01143, params: {'n_estimators': 147},\n",
       "  mean: 0.84033, std: 0.01136, params: {'n_estimators': 148},\n",
       "  mean: 0.84032, std: 0.01132, params: {'n_estimators': 149}],\n",
       " {'n_estimators': 88},\n",
       " 0.84102765377231203)"
      ]
     },
     "execution_count": 31,
     "metadata": {},
     "output_type": "execute_result"
    }
   ],
   "source": [
    "param_test9 = {\n",
    " 'n_estimators':[i for i in range(50,150)]\n",
    "}\n",
    "\n",
    "gsearch9 = GridSearchCV(estimator = XGBClassifier(max_depth=4,min_child_weight=9, gamma=0.5, subsample=0.8,\n",
    "                                                  colsample_bytree=0.6, reg_alpha=1e-05, learning_rate=0.1,\n",
    "                                                 nthread=0, objective= 'binary:logistic'),\n",
    "                        param_grid = param_test9, scoring='roc_auc', cv=10 )\n",
    "\n",
    "gsearch9.fit(X_train, y_train)\n",
    "\n",
    "gsearch9.grid_scores_, gsearch9.best_params_, gsearch9.best_score_"
   ]
  },
  {
   "cell_type": "code",
   "execution_count": 33,
   "metadata": {
    "collapsed": false
   },
   "outputs": [
    {
     "data": {
      "text/plain": [
       "([mean: 0.84022, std: 0.01149, params: {'seed': 90},\n",
       "  mean: 0.83994, std: 0.01211, params: {'seed': 91},\n",
       "  mean: 0.84070, std: 0.01216, params: {'seed': 92},\n",
       "  mean: 0.84113, std: 0.01163, params: {'seed': 93},\n",
       "  mean: 0.84059, std: 0.01214, params: {'seed': 94},\n",
       "  mean: 0.84046, std: 0.01180, params: {'seed': 95},\n",
       "  mean: 0.84025, std: 0.01230, params: {'seed': 96},\n",
       "  mean: 0.83972, std: 0.01167, params: {'seed': 97},\n",
       "  mean: 0.84036, std: 0.01208, params: {'seed': 98},\n",
       "  mean: 0.84028, std: 0.01151, params: {'seed': 99},\n",
       "  mean: 0.84070, std: 0.01231, params: {'seed': 100},\n",
       "  mean: 0.84000, std: 0.01155, params: {'seed': 101},\n",
       "  mean: 0.84024, std: 0.01176, params: {'seed': 102},\n",
       "  mean: 0.83939, std: 0.01207, params: {'seed': 103},\n",
       "  mean: 0.83962, std: 0.01114, params: {'seed': 104},\n",
       "  mean: 0.84007, std: 0.01241, params: {'seed': 105},\n",
       "  mean: 0.84016, std: 0.01176, params: {'seed': 106},\n",
       "  mean: 0.84007, std: 0.01179, params: {'seed': 107},\n",
       "  mean: 0.84005, std: 0.01204, params: {'seed': 108},\n",
       "  mean: 0.83995, std: 0.01238, params: {'seed': 109},\n",
       "  mean: 0.83970, std: 0.01186, params: {'seed': 110}],\n",
       " {'seed': 93},\n",
       " 0.8411291521540466)"
      ]
     },
     "execution_count": 33,
     "metadata": {},
     "output_type": "execute_result"
    }
   ],
   "source": [
    "param_test10 = {\n",
    " 'seed':[i for i in range(90,111)]\n",
    "}\n",
    "\n",
    "gsearch10 = GridSearchCV(estimator = XGBClassifier(max_depth=4,min_child_weight=9, gamma=0.5, subsample=0.8,\n",
    "                                                  colsample_bytree=0.6, reg_alpha=1e-05, learning_rate=0.1,\n",
    "                                                 nthread=0, n_estimators=88,objective= 'binary:logistic'),\n",
    "                        param_grid = param_test10, scoring='roc_auc', cv=10 )\n",
    "\n",
    "gsearch10.fit(X_train, y_train)\n",
    "\n",
    "gsearch10.grid_scores_, gsearch10.best_params_, gsearch10.best_score_"
   ]
  },
  {
   "cell_type": "code",
   "execution_count": 34,
   "metadata": {
    "collapsed": true
   },
   "outputs": [],
   "source": [
    "bestXGB = GridSearchCV(estimator = XGBClassifier(max_depth=4,min_child_weight=9, gamma=0.5, subsample=0.8,\n",
    "                                                  colsample_bytree=0.6, reg_alpha=1e-05, learning_rate=0.1,\n",
    "                                                 nthread=0, n_estimators=88, seed=93 , objective= 'binary:logistic'),\n",
    "                        param_grid = param_test10, scoring='roc_auc', cv=10 )"
   ]
  },
  {
   "cell_type": "code",
   "execution_count": 35,
   "metadata": {
    "collapsed": false
   },
   "outputs": [
    {
     "name": "stdout",
     "output_type": "stream",
     "text": [
      "Training GridSearchCV...\n",
      "Done!\n",
      "Training time (secs): 372.908\n"
     ]
    }
   ],
   "source": [
    "xgb = trainModel(bestXGB, X_train, y_train)"
   ]
  },
  {
   "cell_type": "code",
   "execution_count": 36,
   "metadata": {
    "collapsed": false
   },
   "outputs": [],
   "source": [
    "probs = xgb.predict_proba(test)"
   ]
  },
  {
   "cell_type": "code",
   "execution_count": 37,
   "metadata": {
    "collapsed": false
   },
   "outputs": [],
   "source": [
    "submission = pd.DataFrame({\"ID\":test_id, \"TARGET\": probs[:,1]})"
   ]
  },
  {
   "cell_type": "code",
   "execution_count": 38,
   "metadata": {
    "collapsed": false
   },
   "outputs": [
    {
     "data": {
      "text/html": [
       "<div>\n",
       "<table border=\"1\" class=\"dataframe\">\n",
       "  <thead>\n",
       "    <tr style=\"text-align: right;\">\n",
       "      <th></th>\n",
       "      <th>ID</th>\n",
       "      <th>TARGET</th>\n",
       "    </tr>\n",
       "  </thead>\n",
       "  <tbody>\n",
       "    <tr>\n",
       "      <th>0</th>\n",
       "      <td>2</td>\n",
       "      <td>0.044626</td>\n",
       "    </tr>\n",
       "    <tr>\n",
       "      <th>1</th>\n",
       "      <td>5</td>\n",
       "      <td>0.048524</td>\n",
       "    </tr>\n",
       "    <tr>\n",
       "      <th>2</th>\n",
       "      <td>6</td>\n",
       "      <td>0.002024</td>\n",
       "    </tr>\n",
       "    <tr>\n",
       "      <th>3</th>\n",
       "      <td>7</td>\n",
       "      <td>0.013655</td>\n",
       "    </tr>\n",
       "    <tr>\n",
       "      <th>4</th>\n",
       "      <td>9</td>\n",
       "      <td>0.002414</td>\n",
       "    </tr>\n",
       "  </tbody>\n",
       "</table>\n",
       "</div>"
      ],
      "text/plain": [
       "   ID    TARGET\n",
       "0   2  0.044626\n",
       "1   5  0.048524\n",
       "2   6  0.002024\n",
       "3   7  0.013655\n",
       "4   9  0.002414"
      ]
     },
     "execution_count": 38,
     "metadata": {},
     "output_type": "execute_result"
    }
   ],
   "source": [
    "submission.head()"
   ]
  },
  {
   "cell_type": "code",
   "execution_count": 39,
   "metadata": {
    "collapsed": true
   },
   "outputs": [],
   "source": [
    "submission.to_csv(\"submission.csv\", index=False)"
   ]
  },
  {
   "cell_type": "code",
   "execution_count": null,
   "metadata": {
    "collapsed": true
   },
   "outputs": [],
   "source": []
  }
 ],
 "metadata": {
  "kernelspec": {
   "display_name": "Python 3",
   "language": "python",
   "name": "python3"
  },
  "language_info": {
   "codemirror_mode": {
    "name": "ipython",
    "version": 3
   },
   "file_extension": ".py",
   "mimetype": "text/x-python",
   "name": "python",
   "nbconvert_exporter": "python",
   "pygments_lexer": "ipython3",
   "version": "3.5.1"
  }
 },
 "nbformat": 4,
 "nbformat_minor": 0
}
