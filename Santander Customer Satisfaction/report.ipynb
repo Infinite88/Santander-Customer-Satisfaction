{
 "cells": [
  {
   "cell_type": "markdown",
   "metadata": {},
   "source": [
    "# Predicting a Customer's Satisfaction"
   ]
  },
  {
   "cell_type": "markdown",
   "metadata": {},
   "source": [
    "## 1. Project Overview"
   ]
  },
  {
   "cell_type": "markdown",
   "metadata": {},
   "source": [
    "Which customers are happy customers?\n",
    "\n",
    "Customer satisfaction is a key measure of success and unhappy customers don't stick around. What's more, unhappy customers rarely voice their dissatisfaction before leaving. \n",
    "\n",
    "Santander Bank is asking for help in predicting dissatisfied customers early in their relationship. Doing so would allow Santander to take proactive steps to improve a customer's happiness before it's too late.\n",
    "\n",
    "This data set has hundreds of anonymized features to predict if a customer is satisfied or dissatisfied with their banking experience.\n",
    "\n",
    "The steps taken to predict whether a customer was satisfied with their service or not was:\n",
    "\n",
    "> 1. Define the metric that will be used to evaluate the performance of the model.\n",
    "> 2. Select a set of models to train and from that set determine the best model to set as a benchmark.\n",
    "> 3. Fine tune the best model and validate it through cross validation.\n",
    "\n",
    "The data set can be found at https://www.kaggle.com/c/santander-customer-satisfaction/data"
   ]
  },
  {
   "cell_type": "markdown",
   "metadata": {},
   "source": [
    "## 2. Metrics"
   ]
  },
  {
   "cell_type": "markdown",
   "metadata": {},
   "source": [
    "Because trying to predict whether a customer is satisfied or unsatisfied with their service, this becomes a supervised, classification problem. The metric that is used to evaluate the model is the Area Under the Receiver Operating Characteristic (AUROC). \n",
    "\n",
    ">The receiver operating characteristic (ROC), or ROC curve, is a graphical plot that illustrates the performance of a binary classifier system as its discrimination threshold is varied. The curve is created by plotting the true positive rate (TPR) against the false positive rate (FPR) at various threshold settings. The true-positive rate is also known as sensitivity, or recall. The false-positive rate is also known as the fall-out and can be calculated as (1 - specificity). The ROC curve is thus the sensitivity as a function of fall-out. The advantage of the roc curve is that it explores all possible setting of the threshold.\n",
    "\n",
    "\n",
    ">![alt tag](https://docs.eyesopen.com/toolkits/cookbook/python/_images/roc-theory-small.png)\n",
    ">![alt tag](https://raw.githubusercontent.com/Infinite88/Santander-Customer-Satisfaction/master/Santander%20Customer%20Satisfaction/AUROC%20metric.png)"
   ]
  },
  {
   "cell_type": "markdown",
   "metadata": {},
   "source": [
    "## 3. Analysis"
   ]
  },
  {
   "cell_type": "markdown",
   "metadata": {},
   "source": [
    "### Data Exploration"
   ]
  },
  {
   "cell_type": "markdown",
   "metadata": {},
   "source": [
    "The data set appears to very clean with the exception of a lot of 0 values. The table below illustrates the data prior to being clean.\n",
    "\n",
    ">|| Data Summary (Pre Cleaning)|\n",
    ">|----------------------------|\n",
    ">|# of Entries:  | 76020|\n",
    ">|# of Features: | 371 |\n",
    ">|# of Satisfied | 73012 |\n",
    ">|# of Unsatisfied | 3008 |\n",
    "\n",
    "\n",
    "Throughout my data auditing, I found that there were many duplicate features and constant features. I dealt with this by simply removing these columns from the data set. After removing the previously mention features, only the the most important features were kept. The table below illustrates the data after being cleaned.\n",
    "\n",
    ">| |Data Summary (After data cleaning) |\n",
    ">|-----------------------|\n",
    ">|# of Entries:  | 76020|\n",
    ">|# of Features: | 39 |\n",
    ">|# of Satisfied | 73012 |\n",
    ">|# of Unsatisfied | 3008 |\n",
    "\n",
    "The graph below shows the top 50 most important features. By reducing the features, training time of the models will be increased.\n",
    "\n",
    ">![alt tag](https://raw.githubusercontent.com/Infinite88/Santander-Customer-Satisfaction/master/Santander%20Customer%20Satisfaction/feature_imporatnce.png)"
   ]
  },
  {
   "cell_type": "markdown",
   "metadata": {},
   "source": [
    "### Algorithms and Techniques"
   ]
  },
  {
   "cell_type": "markdown",
   "metadata": {},
   "source": [
    "In trying to find the best model, seven different untuned classifiers were used. The performance of each model can be seen on the table below.\n",
    "\n",
    " \n",
    "\n",
    ">|         Classifier         | Train Time (sec) | AUROC Score (Train) | Test Time (sec) | AUROC Score (Test) |\n",
    ">|----------------------------|------------------|---------------------|-----------------|--------------------|\n",
    ">|         Naive Bayes        |        0.45      |         0.745       |       0.08      |        0.625       |\n",
    ">|        Random Forest       |        9.68      |         0.679       |       1.32      |        0.677       |\n",
    ">|        Decision Tree       |        8.25      |         0.575       |       1.23      |        0.564       |\n",
    ">|     Logistic Regression    |       45.58      |         0.580       |       8.22      |        0.582       |\n",
    ">|      Gradient Boosting     |      111.50      |         0.835       |       14.89     |        0.821       |\n",
    ">|  Extreme Gradient Boosting |       13.55      |         0.837       |       5.67      |        0.826       |\n",
    ">|          Ada Boosting      |       36.23      |         0.829       |       6.17      |        0.810       |\n",
    "\n",
    "As mentioned previously, the AUROC score was used to measure performance of each algorithm. Therefore, a 10-fold cross-validation method was used. How this works is one fold of the data set is chosen as the test set, and the rest is chosen training set. The process is repeated 10 times and the average score is reported. The running time includes the total time of training and testing time in cross-validation process.\n",
    "\n",
    "Here we can see that classifiers random forest the top three scores were Extreme Gradient Boosting (XGB), gradient boosting (GBM), and adaboosting. With a slightly higher score than gradient boosting, the model that seemed to perform the best was XGB. Not only was the score slightly higher, but XGB was blazingly faster than GBM.\n",
    "\n",
    ">![alt tag](https://raw.githubusercontent.com/Infinite88/Santander-Customer-Satisfaction/master/Santander%20Customer%20Satisfaction/ROC_Curve.png)\n",
    "\n",
    "Here we can see on the ROC Curve that gradient boosting and Extreme Gradient Boosting are nearly identical. We can also see by their position that these are the best two models to use.\n"
   ]
  },
  {
   "cell_type": "markdown",
   "metadata": {},
   "source": [
    "### Benchmark"
   ]
  },
  {
   "cell_type": "markdown",
   "metadata": {},
   "source": [
    "Since XGB had the highest score and a faster time than GBM, an untuned XGB will become the benchmark for this model with a training score of 0.837."
   ]
  },
  {
   "cell_type": "markdown",
   "metadata": {},
   "source": [
    "## 4. Methodology"
   ]
  },
  {
   "cell_type": "markdown",
   "metadata": {},
   "source": [
    "Now knowing what model that will be used, fine tuning the parameters would be the next step.\n",
    "\n",
    "XGB parameters can be divided into three catergories:\n",
    "\n",
    "> 1. General Parameters: Parameters that define the overall functionality of XGBoost.\n",
    "> 2. Booster Parameters: Guides the individual booster (tree/regression) at each step.\n",
    "> 3. Learning Task Parameters: Parameters used to define the optimization objective the metric to be calculated at each step.\n",
    "\n",
    "To achieve the best possible model, a variety of different combinations were used to increase the AUROC score.\n",
    "\n",
    "The parameters that were used to tune the XGB algorithm was:\n",
    "> min_child_weight [default=1]: Defines the minimum sum of weights of all observations required in a child.\n",
    "\n",
    "> max_depth [default=6]: The maximum depth of a tree\n",
    "\n",
    "> gamma [default=0]: A node is split only when the resulting split gives a positive reduction in the loss function. \n",
    "\n",
    "> subsample [default=1]: Denotes the fraction of observations to be randomly samples for each tree.\n",
    "\n",
    "> colsample_bytree [default=1]: Denotes the fraction of columns to be randomly samples for each tree.\n",
    "\n",
    "> alpha [default=0]: Can be used in case of very high dimensionality so that the algorithm runs faster when implemented\n",
    "\n",
    "The below table illustrates the parameters used in the final model.\n",
    "\n",
    "\n",
    ">| Final XGB Model Score |Prev Score | New Score |\n",
    "|-----------------------|\n",
    ">|Training | 0.837 | 0.841 |\n",
    ">| Test | 0.826 | 0.837 |\n",
    "\n"
   ]
  },
  {
   "cell_type": "markdown",
   "metadata": {},
   "source": [
    "## 6. Conclusion"
   ]
  },
  {
   "cell_type": "markdown",
   "metadata": {},
   "source": [
    "Extreme gradient boosting was chosen as the best algorithm to use for this data set. For the final model the training set improved to a 0.841 from 0.837 through tuning the parameters of the XGB model. I got a test score fo 0.837, 0.011 higher than the untuned test score. Although that's not significantly higher it is an improvement. With the data set being anoymous, I find it very hard to do be able to visualized the data and perform an analysis on it."
   ]
  },
  {
   "cell_type": "markdown",
   "metadata": {},
   "source": [
    "## 7. Reflection"
   ]
  },
  {
   "cell_type": "markdown",
   "metadata": {},
   "source": [
    "I really enjoyed working on this project. I found it to very interesting in trying to predict if a customer will be satisfied or not with a company's service. With the data set being anonymized, it makes it very hard to explore what each feature actually means and to truly explain the true importance of a feature to another. I also found out that the more complexed ensemble method had better performance scores than simple classifiers. Although the tuning of the model's parameters increased the the final score, methods like feature engineering, creating ensemble of models, stacking, etc may improve the model significantly. Although this would be a good thing, it may take a long time to train."
   ]
  },
  {
   "cell_type": "markdown",
   "metadata": {},
   "source": [
    "## Reference"
   ]
  },
  {
   "cell_type": "markdown",
   "metadata": {},
   "source": [
    "> https://www.kaggle.com/c/santander-customer-satisfaction\n",
    "\n",
    "> http://www.analyticsvidhya.com/blog/2016/03/complete-guide-parameter-tuning-xgboost-with-codes-python/\n",
    "\n",
    "> https://en.wikipedia.org/wiki/Receiver_operating_characteristic"
   ]
  },
  {
   "cell_type": "code",
   "execution_count": null,
   "metadata": {
    "collapsed": true
   },
   "outputs": [],
   "source": []
  }
 ],
 "metadata": {
  "kernelspec": {
   "display_name": "Python 3",
   "language": "python",
   "name": "python3"
  },
  "language_info": {
   "codemirror_mode": {
    "name": "ipython",
    "version": 3
   },
   "file_extension": ".py",
   "mimetype": "text/x-python",
   "name": "python",
   "nbconvert_exporter": "python",
   "pygments_lexer": "ipython3",
   "version": "3.5.1"
  }
 },
 "nbformat": 4,
 "nbformat_minor": 0
}
